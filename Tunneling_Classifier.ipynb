{
 "cells": [
  {
   "cell_type": "code",
   "execution_count": 1,
   "id": "8e7c8240",
   "metadata": {},
   "outputs": [],
   "source": [
    "import glob\n",
    "from matplotlib import pyplot as plt\n",
    "\n",
    "root_dir = \"/home/max/Documents/Classwork/Networks/pcap_samples\"\n",
    "splits=[\"train\", \"test\"]"
   ]
  },
  {
   "cell_type": "code",
   "execution_count": 2,
   "id": "defa50bd",
   "metadata": {},
   "outputs": [],
   "source": [
    "import numpy as np\n",
    "import pandas as pd\n",
    "\n",
    "dataset_files = {split: {} for split in splits}\n",
    "\n",
    "classes = [\n",
    "    \"git-tunnel\",\n",
    "    \"http-tunnel\",\n",
    "    \"browser-tunnel\",\n",
    "    \"ssh-file\",\n",
    "    \"ssh-interactive\",\n",
    "    \"x11-tunnel\"\n",
    "]\n",
    "\n",
    "test_strings = [\"-5.\"]\n",
    "\n",
    "\n",
    "def separate_multiclass_data(root_dir):\n",
    "    for folder in glob.glob(f\"{root_dir}/**/\"):\n",
    "        folder_label = None\n",
    "        for i in range(len(classes)):\n",
    "            print(classes[i], folder)\n",
    "            if classes[i] in folder:\n",
    "                folder_label = i\n",
    "                dataset_files[\"test\"][folder_label] = []\n",
    "                dataset_files[\"train\"][folder_label] = []\n",
    "\n",
    "        for file in glob.glob(f\"{folder}*.csv\", recursive=True):\n",
    "            test_file = False\n",
    "            for string in test_strings:\n",
    "                if string in file:\n",
    "                    test_file = True\n",
    "                    break\n",
    "            \n",
    "            if test_file:\n",
    "                dataset_files[\"test\"][folder_label].append(file)\n",
    "            else:\n",
    "                dataset_files[\"train\"][folder_label].append(file)\n",
    "\n",
    "        \n",
    "def separate_binary_data(root_dir):\n",
    "    for split in splits:\n",
    "        dataset_files[split][0] = []\n",
    "        dataset_files[split][1] = []\n",
    "    for folder in glob.glob(f\"{root_dir}/**/\"):\n",
    "        folder_label = 1 if \"tunnel\" in folder else 0\n",
    "        for file in glob.glob(f\"{folder}*.csv\", recursive=True):\n",
    "            test_file = False\n",
    "            for string in test_strings:\n",
    "                if string in file:\n",
    "                    test_file = True\n",
    "                    break\n",
    "            \n",
    "            if test_file:\n",
    "                dataset_files[\"test\"][folder_label].append(file)\n",
    "            else:\n",
    "                dataset_files[\"train\"][folder_label].append(file)"
   ]
  },
  {
   "cell_type": "code",
   "execution_count": 3,
   "id": "92cd5668",
   "metadata": {},
   "outputs": [
    {
     "data": {
      "text/plain": [
       "{'train': {0: ['/home/max/Documents/Classwork/Networks/all_samples/ssh-interactive/real-world-ssh-interactive-use-example-capture.csv',\n",
       "   '/home/max/Documents/Classwork/Networks/all_samples/ssh-interactive/UNSEEN-ssh-interactive-randomized-3.csv',\n",
       "   '/home/max/Documents/Classwork/Networks/all_samples/ssh-interactive/ssh-interactive-randomized-2.csv',\n",
       "   '/home/max/Documents/Classwork/Networks/all_samples/ssh-interactive/UNSEEN-ssh-interactive-randomized-1.csv',\n",
       "   '/home/max/Documents/Classwork/Networks/all_samples/ssh-interactive/ssh-interactive-randomized-3.csv',\n",
       "   '/home/max/Documents/Classwork/Networks/all_samples/ssh-interactive/ssh-interactive-randomized-4.csv',\n",
       "   '/home/max/Documents/Classwork/Networks/all_samples/ssh-interactive/UNSEEN-ssh-interactive-randomized-4.csv',\n",
       "   '/home/max/Documents/Classwork/Networks/all_samples/ssh-interactive/ssh-interactive-randomized.csv',\n",
       "   '/home/max/Documents/Classwork/Networks/all_samples/ssh-interactive/UNSEEN-ssh-interactive-randomized-2.csv',\n",
       "   '/home/max/Documents/Classwork/Networks/all_samples/ssh-file/UNSEEN-ssh-file-transfer-sample-2.csv',\n",
       "   '/home/max/Documents/Classwork/Networks/all_samples/ssh-file/UNSEEN-ssh-file-transfer-sample-4.csv',\n",
       "   '/home/max/Documents/Classwork/Networks/all_samples/ssh-file/ssh-file-transfer-sample-1.csv',\n",
       "   '/home/max/Documents/Classwork/Networks/all_samples/ssh-file/UNSEEN-ssh-file-transfer-sample-3.csv',\n",
       "   '/home/max/Documents/Classwork/Networks/all_samples/ssh-file/ssh-file-transfer-sample-3-004.csv',\n",
       "   '/home/max/Documents/Classwork/Networks/all_samples/ssh-file/ssh-file-transfer-sample-4.csv',\n",
       "   '/home/max/Documents/Classwork/Networks/all_samples/ssh-file/UNSEEN-ssh-file-transfer-sample-1.csv',\n",
       "   '/home/max/Documents/Classwork/Networks/all_samples/ssh-file/ssh-file-transfer-sample-2.csv'],\n",
       "  1: ['/home/max/Documents/Classwork/Networks/all_samples/browser-tunnel/lynx-web-browser-tunnel-over-ssh-4.csv',\n",
       "   '/home/max/Documents/Classwork/Networks/all_samples/browser-tunnel/lynx-web-browser-tunnel-over-ssh-1.csv',\n",
       "   '/home/max/Documents/Classwork/Networks/all_samples/browser-tunnel/lynx-web-browser-tunnel-over-ssh-2.csv',\n",
       "   '/home/max/Documents/Classwork/Networks/all_samples/browser-tunnel/lynx-web-browser-tunnel-over-ssh-3.csv',\n",
       "   '/home/max/Documents/Classwork/Networks/all_samples/x11-tunnel/x11-tunneling-randomized-3.csv',\n",
       "   '/home/max/Documents/Classwork/Networks/all_samples/x11-tunnel/x11-tunneling-randomized-4.csv',\n",
       "   '/home/max/Documents/Classwork/Networks/all_samples/x11-tunnel/x11-tunneling-randomized-2.csv',\n",
       "   '/home/max/Documents/Classwork/Networks/all_samples/x11-tunnel/x11-tunneling-randomized.csv',\n",
       "   '/home/max/Documents/Classwork/Networks/all_samples/git-tunnel/git-tunnel-over-ssh-3.csv',\n",
       "   '/home/max/Documents/Classwork/Networks/all_samples/git-tunnel/git-tunnel-over-ssh-1.csv',\n",
       "   '/home/max/Documents/Classwork/Networks/all_samples/git-tunnel/git-tunnel-over-ssh-4.csv',\n",
       "   '/home/max/Documents/Classwork/Networks/all_samples/git-tunnel/git-tunnel-over-ssh-2.csv',\n",
       "   '/home/max/Documents/Classwork/Networks/all_samples/http-tunnel/UNSEEN-http-tunnel-over-ssh-5-011.csv',\n",
       "   '/home/max/Documents/Classwork/Networks/all_samples/http-tunnel/UNSEEN-http-tunnel-over-ssh-4-007.csv',\n",
       "   '/home/max/Documents/Classwork/Networks/all_samples/http-tunnel/http-tunnel-over-ssh-1.csv',\n",
       "   '/home/max/Documents/Classwork/Networks/all_samples/http-tunnel/http-tunnel-over-ssh-4.csv',\n",
       "   '/home/max/Documents/Classwork/Networks/all_samples/http-tunnel/UNSEEN-http-tunnel-over-ssh-3.csv',\n",
       "   '/home/max/Documents/Classwork/Networks/all_samples/http-tunnel/UNSEEN-http-tunnel-over-ssh-1.csv',\n",
       "   '/home/max/Documents/Classwork/Networks/all_samples/http-tunnel/http-tunnel-over-ssh-3.csv',\n",
       "   '/home/max/Documents/Classwork/Networks/all_samples/http-tunnel/UNSEEN-http-tunnel-over-ssh-2.csv',\n",
       "   '/home/max/Documents/Classwork/Networks/all_samples/http-tunnel/http-tunnel-over-ssh-2.csv']},\n",
       " 'test': {0: ['/home/max/Documents/Classwork/Networks/all_samples/ssh-interactive/UNSEEN-ssh-interactive-randomized-5.csv',\n",
       "   '/home/max/Documents/Classwork/Networks/all_samples/ssh-interactive/ssh-interactive-randomized-5.csv',\n",
       "   '/home/max/Documents/Classwork/Networks/all_samples/ssh-file/ssh-file-transfer-sample-5.csv',\n",
       "   '/home/max/Documents/Classwork/Networks/all_samples/ssh-file/UNSEEN-ssh-file-transfer-sample-5.csv'],\n",
       "  1: ['/home/max/Documents/Classwork/Networks/all_samples/browser-tunnel/lynx-web-browser-tunnel-over-ssh-5.csv',\n",
       "   '/home/max/Documents/Classwork/Networks/all_samples/x11-tunnel/x11-tunneling-randomized-5.csv',\n",
       "   '/home/max/Documents/Classwork/Networks/all_samples/git-tunnel/git-tunnel-over-ssh-5.csv',\n",
       "   '/home/max/Documents/Classwork/Networks/all_samples/http-tunnel/http-tunnel-over-ssh-5.csv']}}"
      ]
     },
     "execution_count": 3,
     "metadata": {},
     "output_type": "execute_result"
    }
   ],
   "source": [
    "separate_binary_data(root_dir=\"/home/max/Documents/Classwork/Networks/all_samples\")\n",
    "dataset_files"
   ]
  },
  {
   "cell_type": "code",
   "execution_count": 4,
   "id": "d907d5d9",
   "metadata": {},
   "outputs": [],
   "source": [
    "def create_datapoint(df, start_idx, window_size, label=None):\n",
    "    \n",
    "    # extract the relevant rows from the DataFrame\n",
    "    window_df = df.iloc[start_idx:start_idx+window_size]\n",
    "    \n",
    "    # compute the metrics\n",
    "    src_sum = window_df['src'].sum()\n",
    "    length_min = window_df['length'].min()\n",
    "    length_max = window_df['length'].max()\n",
    "    length_mean = window_df['length'].mean()\n",
    "    length_std = window_df['length'].std()\n",
    "    length_range = length_min - length_max\n",
    "    timestamp_diff = np.diff(window_df['timestamp'])\n",
    "    timestamp_diff_min = timestamp_diff.min()\n",
    "    timestamp_diff_max = timestamp_diff.max()\n",
    "    timestamp_diff_mean = timestamp_diff.mean()\n",
    "    timestamp_diff_std = timestamp_diff.std()\n",
    "    timestamp_diff_range = timestamp_diff_min - timestamp_diff_max\n",
    "\n",
    "    metrics = [\n",
    "        src_sum, length_mean, length_std,\n",
    "        length_min, length_max, \n",
    "        # length_range, \n",
    "        timestamp_diff_min, timestamp_diff_max, \n",
    "        timestamp_diff_mean, timestamp_diff_std, \n",
    "        # timestamp_diff_range\n",
    "              ]\n",
    "    \n",
    "    if label is not None:\n",
    "        metrics.append(label)\n",
    "    # return the metrics as a numpy array\n",
    "    return np.array(metrics)"
   ]
  },
  {
   "cell_type": "code",
   "execution_count": 5,
   "id": "c6c61c38",
   "metadata": {},
   "outputs": [],
   "source": [
    "# from sklearn.preprocessing import Imputer\n",
    "from sklearn.preprocessing import LabelEncoder\n",
    "from sklearn.preprocessing import OrdinalEncoder\n",
    "from sklearn.preprocessing import OneHotEncoder\n",
    "from sklearn.pipeline import Pipeline\n",
    "from sklearn.preprocessing import StandardScaler\n",
    "from sklearn.compose import ColumnTransformer\n",
    "\n",
    "# Your code goes here for this section.\n",
    "\n",
    "data_pipeline = StandardScaler()\n"
   ]
  },
  {
   "cell_type": "code",
   "execution_count": 6,
   "id": "c273d2e5",
   "metadata": {},
   "outputs": [],
   "source": [
    "from typing import List, Dict\n",
    "\n",
    "def create_dataset(dset_files: Dict[int, List[str]], window_size: int, stride: int, pipeline, separate_labels=True, train=True) -> np.ndarray:\n",
    "    dset_list = []\n",
    "    \n",
    "    if separate_labels:\n",
    "        label_list = []\n",
    "    \n",
    "    for label in dset_files.keys():\n",
    "        csv_paths = dset_files[label]\n",
    "    \n",
    "        for csv_path in csv_paths:\n",
    "            \n",
    "            print(csv_path)\n",
    "            # read in the csv file and convert to DataFrame\n",
    "            df = pd.read_csv(csv_path, index_col=0)\n",
    "\n",
    "            # loop over all allowable start_idx values separated by stride\n",
    "            for start_idx in range(0, len(df) - window_size + 1, stride):\n",
    "                # compute metrics for the current window\n",
    "                if separate_labels:\n",
    "                    datapt = create_datapoint(df, start_idx, window_size)\n",
    "                    label_list.append(label)\n",
    "                else:\n",
    "                    datapt = create_datapoint(df, start_idx, window_size, label=label)\n",
    "                dset_list.append(datapt)\n",
    "    \n",
    "    # concatenate the resulting arrays row-wise\n",
    "    dset = np.vstack(dset_list)\n",
    "    \n",
    "    if train:\n",
    "        pipeline.fit_transform(dset)\n",
    "    else:\n",
    "        pipeline.transform(dset)\n",
    "    \n",
    "    if separate_labels:\n",
    "        labels = np.array(label_list)\n",
    "        return dset, labels\n",
    "    else:\n",
    "        return dset"
   ]
  },
  {
   "cell_type": "code",
   "execution_count": 7,
   "id": "ca58fcca",
   "metadata": {
    "scrolled": true
   },
   "outputs": [
    {
     "name": "stdout",
     "output_type": "stream",
     "text": [
      "/home/max/Documents/Classwork/Networks/all_samples/ssh-interactive/real-world-ssh-interactive-use-example-capture.csv\n",
      "/home/max/Documents/Classwork/Networks/all_samples/ssh-interactive/UNSEEN-ssh-interactive-randomized-3.csv\n",
      "/home/max/Documents/Classwork/Networks/all_samples/ssh-interactive/ssh-interactive-randomized-2.csv\n",
      "/home/max/Documents/Classwork/Networks/all_samples/ssh-interactive/UNSEEN-ssh-interactive-randomized-1.csv\n",
      "/home/max/Documents/Classwork/Networks/all_samples/ssh-interactive/ssh-interactive-randomized-3.csv\n",
      "/home/max/Documents/Classwork/Networks/all_samples/ssh-interactive/ssh-interactive-randomized-4.csv\n",
      "/home/max/Documents/Classwork/Networks/all_samples/ssh-interactive/UNSEEN-ssh-interactive-randomized-4.csv\n",
      "/home/max/Documents/Classwork/Networks/all_samples/ssh-interactive/ssh-interactive-randomized.csv\n",
      "/home/max/Documents/Classwork/Networks/all_samples/ssh-interactive/UNSEEN-ssh-interactive-randomized-2.csv\n",
      "/home/max/Documents/Classwork/Networks/all_samples/ssh-file/UNSEEN-ssh-file-transfer-sample-2.csv\n",
      "/home/max/Documents/Classwork/Networks/all_samples/ssh-file/UNSEEN-ssh-file-transfer-sample-4.csv\n",
      "/home/max/Documents/Classwork/Networks/all_samples/ssh-file/ssh-file-transfer-sample-1.csv\n",
      "/home/max/Documents/Classwork/Networks/all_samples/ssh-file/UNSEEN-ssh-file-transfer-sample-3.csv\n",
      "/home/max/Documents/Classwork/Networks/all_samples/ssh-file/ssh-file-transfer-sample-3-004.csv\n",
      "/home/max/Documents/Classwork/Networks/all_samples/ssh-file/ssh-file-transfer-sample-4.csv\n",
      "/home/max/Documents/Classwork/Networks/all_samples/ssh-file/UNSEEN-ssh-file-transfer-sample-1.csv\n",
      "/home/max/Documents/Classwork/Networks/all_samples/ssh-file/ssh-file-transfer-sample-2.csv\n",
      "/home/max/Documents/Classwork/Networks/all_samples/browser-tunnel/lynx-web-browser-tunnel-over-ssh-4.csv\n",
      "/home/max/Documents/Classwork/Networks/all_samples/browser-tunnel/lynx-web-browser-tunnel-over-ssh-1.csv\n",
      "/home/max/Documents/Classwork/Networks/all_samples/browser-tunnel/lynx-web-browser-tunnel-over-ssh-2.csv\n",
      "/home/max/Documents/Classwork/Networks/all_samples/browser-tunnel/lynx-web-browser-tunnel-over-ssh-3.csv\n",
      "/home/max/Documents/Classwork/Networks/all_samples/x11-tunnel/x11-tunneling-randomized-3.csv\n",
      "/home/max/Documents/Classwork/Networks/all_samples/x11-tunnel/x11-tunneling-randomized-4.csv\n",
      "/home/max/Documents/Classwork/Networks/all_samples/x11-tunnel/x11-tunneling-randomized-2.csv\n",
      "/home/max/Documents/Classwork/Networks/all_samples/x11-tunnel/x11-tunneling-randomized.csv\n",
      "/home/max/Documents/Classwork/Networks/all_samples/git-tunnel/git-tunnel-over-ssh-3.csv\n",
      "/home/max/Documents/Classwork/Networks/all_samples/git-tunnel/git-tunnel-over-ssh-1.csv\n",
      "/home/max/Documents/Classwork/Networks/all_samples/git-tunnel/git-tunnel-over-ssh-4.csv\n",
      "/home/max/Documents/Classwork/Networks/all_samples/git-tunnel/git-tunnel-over-ssh-2.csv\n",
      "/home/max/Documents/Classwork/Networks/all_samples/http-tunnel/UNSEEN-http-tunnel-over-ssh-5-011.csv\n",
      "/home/max/Documents/Classwork/Networks/all_samples/http-tunnel/UNSEEN-http-tunnel-over-ssh-4-007.csv\n",
      "/home/max/Documents/Classwork/Networks/all_samples/http-tunnel/http-tunnel-over-ssh-1.csv\n",
      "/home/max/Documents/Classwork/Networks/all_samples/http-tunnel/http-tunnel-over-ssh-4.csv\n",
      "/home/max/Documents/Classwork/Networks/all_samples/http-tunnel/UNSEEN-http-tunnel-over-ssh-3.csv\n",
      "/home/max/Documents/Classwork/Networks/all_samples/http-tunnel/UNSEEN-http-tunnel-over-ssh-1.csv\n",
      "/home/max/Documents/Classwork/Networks/all_samples/http-tunnel/http-tunnel-over-ssh-3.csv\n",
      "/home/max/Documents/Classwork/Networks/all_samples/http-tunnel/UNSEEN-http-tunnel-over-ssh-2.csv\n",
      "/home/max/Documents/Classwork/Networks/all_samples/http-tunnel/http-tunnel-over-ssh-2.csv\n",
      "/home/max/Documents/Classwork/Networks/all_samples/ssh-interactive/UNSEEN-ssh-interactive-randomized-5.csv\n",
      "/home/max/Documents/Classwork/Networks/all_samples/ssh-interactive/ssh-interactive-randomized-5.csv\n",
      "/home/max/Documents/Classwork/Networks/all_samples/ssh-file/ssh-file-transfer-sample-5.csv\n",
      "/home/max/Documents/Classwork/Networks/all_samples/ssh-file/UNSEEN-ssh-file-transfer-sample-5.csv\n",
      "/home/max/Documents/Classwork/Networks/all_samples/browser-tunnel/lynx-web-browser-tunnel-over-ssh-5.csv\n",
      "/home/max/Documents/Classwork/Networks/all_samples/x11-tunnel/x11-tunneling-randomized-5.csv\n",
      "/home/max/Documents/Classwork/Networks/all_samples/git-tunnel/git-tunnel-over-ssh-5.csv\n",
      "/home/max/Documents/Classwork/Networks/all_samples/http-tunnel/http-tunnel-over-ssh-5.csv\n"
     ]
    }
   ],
   "source": [
    "window_size = 100\n",
    "stride = 10\n",
    "\n",
    "X_train, Y_train = create_dataset(dataset_files[\"train\"], window_size=window_size, stride=stride, pipeline=data_pipeline, separate_labels=True)\n",
    "X_test, Y_test = create_dataset(dataset_files[\"test\"], window_size=window_size, stride=stride, pipeline=data_pipeline, separate_labels=True)"
   ]
  },
  {
   "cell_type": "code",
   "execution_count": 8,
   "id": "97cd185a",
   "metadata": {},
   "outputs": [
    {
     "data": {
      "text/plain": [
       "array([[4.600000e+01, 2.495400e+02, 3.803000e+02, 6.600000e+01,\n",
       "        1.630000e+03, 0.000000e+00, 2.231000e+01, 5.000000e-01,\n",
       "        2.950000e+00],\n",
       "       [4.500000e+01, 2.853200e+02, 4.252800e+02, 6.600000e+01,\n",
       "        1.630000e+03, 0.000000e+00, 2.231000e+01, 3.300000e-01,\n",
       "        2.410000e+00],\n",
       "       [4.600000e+01, 2.542000e+02, 3.793100e+02, 6.600000e+01,\n",
       "        1.630000e+03, 0.000000e+00, 2.231000e+01, 3.300000e-01,\n",
       "        2.420000e+00],\n",
       "       [4.600000e+01, 2.602800e+02, 3.835400e+02, 6.600000e+01,\n",
       "        1.630000e+03, 0.000000e+00, 2.231000e+01, 3.300000e-01,\n",
       "        2.420000e+00],\n",
       "       [4.500000e+01, 5.766400e+02, 1.801750e+03, 6.600000e+01,\n",
       "        1.454600e+04, 0.000000e+00, 2.231000e+01, 3.300000e-01,\n",
       "        2.420000e+00],\n",
       "       [4.600000e+01, 1.558120e+03, 4.936040e+03, 6.600000e+01,\n",
       "        3.287000e+04, 0.000000e+00, 2.231000e+01, 2.300000e-01,\n",
       "        2.230000e+00],\n",
       "       [4.700000e+01, 2.831820e+03, 7.878620e+03, 6.600000e+01,\n",
       "        4.495400e+04, 0.000000e+00, 2.231000e+01, 2.300000e-01,\n",
       "        2.230000e+00],\n",
       "       [4.700000e+01, 4.452820e+03, 1.023156e+04, 6.600000e+01,\n",
       "        4.495400e+04, 0.000000e+00, 2.231000e+01, 2.300000e-01,\n",
       "        2.230000e+00],\n",
       "       [4.800000e+01, 5.741540e+03, 1.162117e+04, 6.600000e+01,\n",
       "        4.495400e+04, 0.000000e+00, 2.231000e+01, 2.300000e-01,\n",
       "        2.230000e+00],\n",
       "       [4.900000e+01, 7.373260e+03, 1.296151e+04, 6.600000e+01,\n",
       "        4.495400e+04, 0.000000e+00, 2.231000e+01, 2.300000e-01,\n",
       "        2.230000e+00]])"
      ]
     },
     "execution_count": 8,
     "metadata": {},
     "output_type": "execute_result"
    }
   ],
   "source": [
    "np.round(X_train[0:10], 2)"
   ]
  },
  {
   "cell_type": "code",
   "execution_count": 9,
   "id": "894b4f92",
   "metadata": {
    "scrolled": true
   },
   "outputs": [
    {
     "data": {
      "text/plain": [
       "0.394860349863796"
      ]
     },
     "execution_count": 9,
     "metadata": {},
     "output_type": "execute_result"
    }
   ],
   "source": [
    "sum(Y_test) / len(Y_test)"
   ]
  },
  {
   "cell_type": "code",
   "execution_count": 10,
   "id": "4cbbcdb0",
   "metadata": {},
   "outputs": [],
   "source": [
    "from sklearn.linear_model import *\n",
    "from sklearn.metrics import confusion_matrix"
   ]
  },
  {
   "cell_type": "code",
   "execution_count": 11,
   "id": "be50ec6e",
   "metadata": {},
   "outputs": [],
   "source": [
    "from sklearn.linear_model import *\n",
    "\n",
    "lin_reg = LinearRegression().fit(X_train, Y_train)"
   ]
  },
  {
   "cell_type": "code",
   "execution_count": 12,
   "id": "4142697a",
   "metadata": {},
   "outputs": [
    {
     "name": "stdout",
     "output_type": "stream",
     "text": [
      "Linear model train accuracy: 0.8977287161411197\n",
      "Linear model test accuracy: 0.9579080376776395\n"
     ]
    }
   ],
   "source": [
    "print(\"Linear model train accuracy:\", sum(np.round(lin_reg.predict(X_train)) ==Y_train) / len(Y_train))\n",
    "print(\"Linear model test accuracy:\", sum(np.round(lin_reg.predict(X_test)) ==Y_test) / len(Y_test))"
   ]
  },
  {
   "cell_type": "code",
   "execution_count": 13,
   "id": "ed5df89c",
   "metadata": {},
   "outputs": [
    {
     "name": "stdout",
     "output_type": "stream",
     "text": [
      "[[     0      0      0      0      0      0]\n",
      " [    37  89080   8425      9      0     35]\n",
      " [    68  16873 137083    316      2      0]\n",
      " [     0      0      0      0      0      0]\n",
      " [     0      0      0      0      0      0]\n",
      " [     0      0      0      0      0      0]]\n",
      "[[    0     0     0     0]\n",
      " [    1 36242   620    13]\n",
      " [   21  1827 22131    83]\n",
      " [    0     0     0     0]]\n"
     ]
    }
   ],
   "source": [
    "print(confusion_matrix(Y_train, np.round(lin_reg.predict(X_train))))\n",
    "print(confusion_matrix(Y_test, np.round(lin_reg.predict(X_test))))"
   ]
  },
  {
   "cell_type": "code",
   "execution_count": 14,
   "id": "31ba369f",
   "metadata": {},
   "outputs": [],
   "source": [
    "log_reg = LogisticRegression().fit(X_train, Y_train)"
   ]
  },
  {
   "cell_type": "code",
   "execution_count": 15,
   "id": "13f5ca5a",
   "metadata": {},
   "outputs": [
    {
     "name": "stdout",
     "output_type": "stream",
     "text": [
      "Logistic model train accuracy: 0.8548315391699216\n",
      "Logistic model test accuracy: 0.917063244609275\n"
     ]
    }
   ],
   "source": [
    "print(\"Logistic model train accuracy:\", log_reg.score(X_train, Y_train))\n",
    "print(\"Logistic model test accuracy:\", log_reg.score(X_test, Y_test))"
   ]
  },
  {
   "cell_type": "code",
   "execution_count": 16,
   "id": "c7f76475",
   "metadata": {},
   "outputs": [
    {
     "name": "stdout",
     "output_type": "stream",
     "text": [
      "[[ 89420   8166]\n",
      " [ 28406 125936]]\n",
      "[[36198   678]\n",
      " [ 4376 19686]]\n"
     ]
    }
   ],
   "source": [
    "print(confusion_matrix(Y_train, np.round(log_reg.predict(X_train))))\n",
    "print(confusion_matrix(Y_test, np.round(log_reg.predict(X_test))))"
   ]
  },
  {
   "cell_type": "code",
   "execution_count": 17,
   "id": "e1913c92",
   "metadata": {},
   "outputs": [],
   "source": [
    "from sklearn.tree import DecisionTreeClassifier\n",
    "\n",
    "tree_model = DecisionTreeClassifier().fit(X_train, Y_train)"
   ]
  },
  {
   "cell_type": "code",
   "execution_count": 18,
   "id": "f607fa16",
   "metadata": {},
   "outputs": [
    {
     "name": "stdout",
     "output_type": "stream",
     "text": [
      "Tree model train accuracy: 1.0\n",
      "Tree model test accuracy: 0.997308740030851\n"
     ]
    }
   ],
   "source": [
    "print(\"Tree model train accuracy:\", tree_model.score(X_train, Y_train))\n",
    "print(\"Tree model test accuracy:\", tree_model.score(X_test, Y_test))"
   ]
  },
  {
   "cell_type": "code",
   "execution_count": 19,
   "id": "f83097c1",
   "metadata": {
    "scrolled": true
   },
   "outputs": [
    {
     "name": "stdout",
     "output_type": "stream",
     "text": [
      "[[ 97586      0]\n",
      " [     0 154342]]\n",
      "[[36776   100]\n",
      " [   64 23998]]\n"
     ]
    }
   ],
   "source": [
    "print(confusion_matrix(Y_train, np.round(tree_model.predict(X_train))))\n",
    "print(confusion_matrix(Y_test, np.round(tree_model.predict(X_test))))"
   ]
  },
  {
   "cell_type": "code",
   "execution_count": 20,
   "id": "319f0186",
   "metadata": {},
   "outputs": [],
   "source": [
    "from sklearn.ensemble import RandomForestClassifier\n",
    "\n",
    "forest_model = RandomForestClassifier(n_estimators=200, max_depth=4).fit(X_train, Y_train)"
   ]
  },
  {
   "cell_type": "code",
   "execution_count": 21,
   "id": "38d26784",
   "metadata": {},
   "outputs": [
    {
     "name": "stdout",
     "output_type": "stream",
     "text": [
      "Forest model train accuracy: 0.974353783620717\n",
      "Forest model test accuracy: 0.9942728675046769\n"
     ]
    }
   ],
   "source": [
    "print(\"Forest model train accuracy:\", forest_model.score(X_train, Y_train))\n",
    "print(\"Forest model test accuracy:\", forest_model.score(X_test, Y_test))"
   ]
  },
  {
   "cell_type": "code",
   "execution_count": 22,
   "id": "8cef9e8c",
   "metadata": {},
   "outputs": [
    {
     "name": "stdout",
     "output_type": "stream",
     "text": [
      "[[ 91749   5837]\n",
      " [   624 153718]]\n",
      "[[36646   230]\n",
      " [  119 23943]]\n"
     ]
    }
   ],
   "source": [
    "print(confusion_matrix(Y_train, np.round(forest_model.predict(X_train))))\n",
    "print(confusion_matrix(Y_test, np.round(forest_model.predict(X_test))))"
   ]
  },
  {
   "cell_type": "code",
   "execution_count": 23,
   "id": "4e057ac8",
   "metadata": {},
   "outputs": [
    {
     "name": "stdout",
     "output_type": "stream",
     "text": [
      "[0 0 0 ... 1 1 1]\n"
     ]
    }
   ],
   "source": [
    "print(Y_test)"
   ]
  },
  {
   "cell_type": "code",
   "execution_count": 48,
   "id": "6b14d7d8",
   "metadata": {},
   "outputs": [],
   "source": [
    "import random\n",
    "\n",
    "realtime_files = dataset_files[\"test\"][1] + dataset_files[\"test\"][0]\n",
    "random.shuffle(realtime_files)\n",
    "\n",
    "realtime_data = [pd.read_csv(filename) for filename in realtime_files]\n",
    "\n",
    "x = [[int(\"tunnel\" in realtime_files[i])] * len(realtime_data[i])\n",
    "                      for i in range(len(realtime_files))]\n",
    "realtime_labels = []\n",
    "for label_slice in x:\n",
    "    realtime_labels += label_slice"
   ]
  },
  {
   "cell_type": "code",
   "execution_count": 50,
   "id": "e22d429e",
   "metadata": {},
   "outputs": [],
   "source": [
    "times = []\n",
    "for i in range(len(realtime_files)):\n",
    "    if len(realtime_data[i]) > 60100:\n",
    "        times.append(realtime_data[i][\"timestamp\"][60100]-realtime_data[i][\"timestamp\"][100])"
   ]
  },
  {
   "cell_type": "code",
   "execution_count": 25,
   "id": "12f30040",
   "metadata": {},
   "outputs": [],
   "source": [
    "realtime_data = pd.concat(realtime_data)"
   ]
  },
  {
   "cell_type": "code",
   "execution_count": 53,
   "id": "801ced27",
   "metadata": {},
   "outputs": [
    {
     "data": {
      "text/plain": [
       "7.9738611578941345"
      ]
     },
     "execution_count": 53,
     "metadata": {},
     "output_type": "execute_result"
    }
   ],
   "source": [
    "np.mean(times)"
   ]
  },
  {
   "cell_type": "code",
   "execution_count": 41,
   "id": "d7fa5640",
   "metadata": {},
   "outputs": [],
   "source": [
    "data_samples = range(0, len(realtime_labels)-window_size, 10)\n",
    "X_samp = [create_datapoint(realtime_data, samp, window_size) for samp in data_samples]\n",
    "Y_samp = [realtime_labels[samp:samp+window_size][-1] for samp in data_samples]"
   ]
  },
  {
   "cell_type": "code",
   "execution_count": 47,
   "id": "e52a8882",
   "metadata": {},
   "outputs": [
    {
     "name": "stdout",
     "output_type": "stream",
     "text": [
      "2.0624661445617676 61004\n"
     ]
    }
   ],
   "source": [
    "import time\n",
    "\n",
    "t0 = time.time()\n",
    "for i in range(len(X_samp[:60000])):\n",
    "    tree_model.predict(X_samp[i:i+1])\n",
    "print(time.time()-t0, len(X_samp))"
   ]
  },
  {
   "cell_type": "code",
   "execution_count": 38,
   "id": "a1191dec",
   "metadata": {},
   "outputs": [],
   "source": [
    "from matplotlib import pyplot as plt"
   ]
  },
  {
   "cell_type": "code",
   "execution_count": 40,
   "id": "f3729c17",
   "metadata": {},
   "outputs": [
    {
     "data": {
      "text/plain": [
       "[<matplotlib.lines.Line2D at 0x7f7f859add10>]"
      ]
     },
     "execution_count": 40,
     "metadata": {},
     "output_type": "execute_result"
    },
    {
     "data": {
      "image/png": "[encoded data removed]",
      "text/plain": [
       "<Figure size 640x480 with 1 Axes>"
      ]
     },
     "metadata": {},
     "output_type": "display_data"
    }
   ],
   "source": [
    "plt.plot(data_samples, np.clip(lin_reg.predict(X_samp), -3, 3))"
   ]
  },
  {
   "cell_type": "code",
   "execution_count": null,
   "id": "137d8715",
   "metadata": {},
   "outputs": [],
   "source": []
  }
 ],
 "metadata": {
  "kernelspec": {
   "display_name": "Python 3 (ipykernel)",
   "language": "python",
   "name": "python3"
  },
  "language_info": {
   "codemirror_mode": {
    "name": "ipython",
    "version": 3
   },
   "file_extension": ".py",
   "mimetype": "text/x-python",
   "name": "python",
   "nbconvert_exporter": "python",
   "pygments_lexer": "ipython3",
   "version": "3.11.0"
  }
 },
 "nbformat": 4,
 "nbformat_minor": 5
}
